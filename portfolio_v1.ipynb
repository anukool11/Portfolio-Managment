{
 "cells": [
  {
   "cell_type": "code",
   "execution_count": 7,
   "metadata": {},
   "outputs": [],
   "source": [
    "#Setting up the connection"
   ]
  },
  {
   "cell_type": "code",
   "execution_count": 1,
   "metadata": {},
   "outputs": [],
   "source": [
    "from breeze_connect import BreezeConnect\n",
    "import pandas as pd\n",
    "import numpy as np\n",
    "import seaborn as sns\n",
    "import matplotlib.pyplot as plt\n",
    "import datetime\n",
    "import math\n",
    "import scipy.stats as scs\n",
    "import statsmodels.api as sm\n",
    "from pylab import mpl, plt"
   ]
  },
  {
   "cell_type": "code",
   "execution_count": 2,
   "metadata": {},
   "outputs": [],
   "source": [
    "breeze = BreezeConnect(api_key = 'ge528J31807C23m1138209727YT28K7*')"
   ]
  },
  {
   "cell_type": "code",
   "execution_count": 3,
   "metadata": {},
   "outputs": [
    {
     "name": "stdout",
     "output_type": "stream",
     "text": [
      "https://api.icicidirect.com/apiuser/login?api_key=ge528J31807C23m1138209727YT28K7%2A\n"
     ]
    }
   ],
   "source": [
    "import urllib\n",
    "print(\"https://api.icicidirect.com/apiuser/login?api_key=\"+urllib.parse.quote_plus(\"ge528J31807C23m1138209727YT28K7*\"))\n"
   ]
  },
  {
   "cell_type": "code",
   "execution_count": 4,
   "metadata": {},
   "outputs": [],
   "source": [
    "breeze.generate_session(api_secret=\"7$`4002714a8v&50&014906179j^4881\",\n",
    "                        session_token=\"20501958\")"
   ]
  },
  {
   "cell_type": "code",
   "execution_count": 198,
   "metadata": {},
   "outputs": [],
   "source": [
    "#Constants"
   ]
  },
  {
   "cell_type": "code",
   "execution_count": 5,
   "metadata": {},
   "outputs": [],
   "source": [
    "RF = 3\n",
    "TIMEDELTA = 365"
   ]
  },
  {
   "cell_type": "code",
   "execution_count": 8,
   "metadata": {},
   "outputs": [],
   "source": [
    "#Portfolio"
   ]
  },
  {
   "cell_type": "code",
   "execution_count": 44,
   "metadata": {},
   "outputs": [
    {
     "data": {
      "text/plain": [
       "{'HDFBAN':              HDFBAN\n",
       " Date               \n",
       " 2023-03-01  1598.05\n",
       " 2023-03-02  1584.45\n",
       " 2023-03-03  1615.90\n",
       " 2023-03-06  1627.30\n",
       " 2023-03-08  1630.55\n",
       " 2023-03-09  1630.70\n",
       " 2023-03-10  1588.65\n",
       " 2023-03-13  1568.55\n",
       " 2023-03-14  1564.35\n",
       " 2023-03-15  1541.90\n",
       " 2023-03-16  1551.90\n",
       " 2023-03-17  1572.65\n",
       " 2023-03-20  1561.75\n",
       " 2023-03-21  1579.45\n",
       " 2023-03-22  1575.80\n",
       " 2023-03-23  1563.15\n",
       " 2023-03-24  1560.65\n",
       " 2023-03-27  1567.45\n",
       " 2023-03-28  1580.20\n",
       " 2023-03-29  1587.80\n",
       " 2023-03-31  1609.55}"
      ]
     },
     "execution_count": 44,
     "metadata": {},
     "output_type": "execute_result"
    }
   ],
   "source": [
    "# data_dict = {}\n",
    "# format = '%Y-%m-%d'\n",
    "# datetime.datetime.strptime('2023-03-01', format).date()\n",
    "dict = breeze.get_historical_data(interval=\"1day\", from_date=\"2023-03-01T07:00:00.000Z\", to_date=\"2023-03-31T07:00:00.000Z\", stock_code='HDFBAN', exchange_code=\"NSE\", product_type=\"cash\")\n",
    "df = pd.DataFrame([[x['datetime'][:10], float(x['close'])] for x in dict['Success']], columns = ['Date', 'HDFBAN'])\n",
    "df.head()\n",
    "df['Date'] = pd.to_datetime(df['Date'], format = '%Y-%m-%d')\n",
    "data_dict['HDFBAN'] = df.set_index('Date')\n",
    "data_dict"
   ]
  },
  {
   "cell_type": "code",
   "execution_count": 41,
   "metadata": {},
   "outputs": [
    {
     "data": {
      "text/plain": [
       "datetime.date(2023, 3, 1)"
      ]
     },
     "execution_count": 41,
     "metadata": {},
     "output_type": "execute_result"
    }
   ],
   "source": []
  },
  {
   "cell_type": "code",
   "execution_count": 45,
   "metadata": {},
   "outputs": [],
   "source": [
    "\n",
    "def get_cov_mat(stocks, from_date=\"2013-04-01T07:00:00.000Z\", to_date=\"2023-03-31T07:00:00.000Z\"):\n",
    "    data_dict = {}    \n",
    "    for stock in stocks:\n",
    "        dict = breeze.get_historical_data(interval=\"1day\", from_date=from_date, to_date=to_date, stock_code=stock, exchange_code=\"NSE\", product_type=\"cash\")\n",
    "        #data_dict[stock]=[{'date': x['datetime'][:10], 'close': x['close']} for x in dict['Success']]\n",
    "        df = pd.DataFrame([[x['datetime'][:10], float(x['close'])] for x in dict['Success']], columns = ['Date', stock])\n",
    "        df['Date'] = pd.to_datetime(df['Date'], format = '%Y-%m-%d')\n",
    "        data_dict[stock] = df.set_index('Date')\n",
    "    \n",
    "    data = []\n",
    "    for key in data_dict:\n",
    "        data.append(data_dict[key])\n",
    "\n",
    "    price_data = pd.concat(data, axis=1, join='inner')\n",
    "    \n",
    "    index_data = price_data[['NIFTY']]\n",
    "    price_data = price_data.drop(['NIFTY'], axis=1)\n",
    "\n",
    "    log_ret = np.log(price_data/price_data.shift(1))\n",
    "\n",
    "    cov_mat = log_ret.cov()\n",
    "    cov_mat = cov_mat*252  #assuming 252 trading days in a year\n",
    "    ret = (log_ret.mean()+1)**252-1\n",
    "    \n",
    "\n",
    "    return price_data, index_data, cov_mat, ret"
   ]
  },
  {
   "cell_type": "code",
   "execution_count": 1,
   "metadata": {},
   "outputs": [],
   "source": [
    "import numpy as np"
   ]
  },
  {
   "cell_type": "code",
   "execution_count": 4,
   "metadata": {},
   "outputs": [
    {
     "data": {
      "text/plain": [
       "0.2859781500777878"
      ]
     },
     "execution_count": 4,
     "metadata": {},
     "output_type": "execute_result"
    }
   ],
   "source": [
    "(np.log(130/100)/3+1)**3-1"
   ]
  },
  {
   "cell_type": "code",
   "execution_count": 5,
   "metadata": {},
   "outputs": [
    {
     "data": {
      "text/plain": [
       "1.091392883061106"
      ]
     },
     "execution_count": 5,
     "metadata": {},
     "output_type": "execute_result"
    }
   ],
   "source": [
    "1.3**(1/3)"
   ]
  },
  {
   "cell_type": "code",
   "execution_count": 7,
   "metadata": {},
   "outputs": [],
   "source": [
    "def amt_to_wt(amounts):\n",
    "    total=sum(amounts)\n",
    "    return np.array([a/total for a in amounts])"
   ]
  },
  {
   "cell_type": "code",
   "execution_count": 18,
   "metadata": {},
   "outputs": [],
   "source": [
    "tickermatch = pd.read_csv('MCAP.csv', index_col='Symbol').to_dict()['ShortName']"
   ]
  },
  {
   "cell_type": "code",
   "execution_count": 13,
   "metadata": {},
   "outputs": [],
   "source": [
    "price_data, index_data, cov_mat, ret = get_cov_mat([tickermatch['HDFCBANK'], tickermatch['ITC'], 'NIFTY'])"
   ]
  },
  {
   "cell_type": "code",
   "execution_count": 14,
   "metadata": {},
   "outputs": [
    {
     "name": "stdout",
     "output_type": "stream",
     "text": [
      "            HDFBAN     ITC\n",
      "Date                      \n",
      "2013-04-01  311.93  204.80\n",
      "2013-04-02  314.95  204.77\n",
      "2013-04-03  311.83  205.07\n",
      "2013-04-04  308.08  199.70\n",
      "2013-04-05  310.48  194.20\n",
      "              NIFTY\n",
      "Date               \n",
      "2013-04-01  5704.40\n",
      "2013-04-02  5748.10\n",
      "2013-04-03  5672.90\n",
      "2013-04-04  5574.75\n",
      "2013-04-05  5553.25\n",
      "          HDFBAN       ITC\n",
      "HDFBAN  0.056462  0.019466\n",
      "ITC     0.019466  0.068517\n",
      "HDFBAN    0.183145\n",
      "ITC       0.066417\n",
      "dtype: float64\n"
     ]
    }
   ],
   "source": [
    "print(price_data.head())\n",
    "print(index_data.head())\n",
    "print(cov_mat)\n",
    "print(ret)"
   ]
  },
  {
   "cell_type": "code",
   "execution_count": 46,
   "metadata": {},
   "outputs": [],
   "source": [
    "class Portfolio(object):\n",
    "    def __init__(self, secs, weights):\n",
    "\n",
    "        self.secs = secs\n",
    "        self.weights = weights\n",
    "\n",
    "        self.pdata, self.idata, cov_mat, returns  = get_cov_mat(self.secs)\n",
    "\n",
    "        self.ret = round(np.dot(returns, self.weights)*100, 2)\n",
    "        self.std = round(np.sqrt(np.dot(self.weights.T, np.dot(cov_mat, self.weights.T)))*100, 2)\n",
    "        self.sharpe = round((self.ret-RF)/self.std,2)\n",
    "\n",
    "    def __str__(self):\n",
    "        return f\"Returns: {self.ret}% Std: {self.std}%\"\n",
    "\n",
    "    def plot_performance(self):\n",
    "        index = 100\n",
    "        ind_val=[index]\n",
    "        day = self.weights*100\n",
    "        port_val = []\n",
    "        port_val.append(day.sum())\n",
    "\n",
    "        piret = self.pdata/self.pdata.shift(1)\n",
    "        inret = self.idata/self.idata.shift(1)\n",
    "\n",
    "        for i in range(1, len(piret)):\n",
    "            day = np.array(day*piret.iloc[i])\n",
    "            port_val.append(day.sum())\n",
    "            index = index*inret.iloc[i][0]\n",
    "            ind_val.append(index)\n",
    "        \n",
    "        self.pdata['port_val'] = port_val\n",
    "        self.pdata['ind_val'] = ind_val\n",
    "        \n",
    "        index_return = ((np.log(self.idata/self.idata.shift(1)).mean()+1)**252-1)[0]\n",
    "        std_return_diff = np.std(self.pdata['port_val']/self.pdata['port_val'].shift(1)-self.pdata['ind_val']/self.pdata['ind_val'].shift(1))\n",
    "        self.inf = (self.ret/100-index_return)/std_return_diff\n",
    "        \n",
    "        plt.plot(self.pdata['port_val'], label=\"Portfolio\")\n",
    "        plt.plot(self.pdata['ind_val'], label=\"Nifty\")\n",
    "        sns.lineplot(self.pdata['port_val'])\n",
    "        #plt.savefig('media\\plot.png')\n"
   ]
  },
  {
   "cell_type": "code",
   "execution_count": 47,
   "metadata": {},
   "outputs": [],
   "source": [
    "def compute_portfolio(ticks, amounts):\n",
    "    if len(ticks) == 0:\n",
    "        return 0, 0\n",
    "    secs = [tickermatch[tick] for tick in ticks]\n",
    "    port = Portfolio(secs, amt_to_wt(amounts))\n",
    "    port.plot_performance()\n",
    "    print(port.pdata)\n",
    "    \n"
   ]
  },
  {
   "cell_type": "code",
   "execution_count": 48,
   "metadata": {},
   "outputs": [
    {
     "name": "stdout",
     "output_type": "stream",
     "text": [
      "               ITC   HDFBAN   ASIPAI    port_val     ind_val\n",
      "Date                                                        \n",
      "2013-04-01  204.80   311.93   495.50  100.000000  100.000000\n",
      "2013-04-02  204.77   314.95   489.04   99.908784  100.766075\n",
      "2013-04-03  205.07   311.83   488.51   99.705229   99.447795\n",
      "2013-04-04  199.70   308.08   478.86   97.606764   97.727193\n",
      "2013-04-05  194.20   310.48   476.76   96.350388   97.350291\n",
      "...            ...      ...      ...         ...         ...\n",
      "2023-03-24  378.70  1560.65  2798.50  358.731963  297.052275\n",
      "2023-03-27  380.20  1567.45  2803.75  359.908052  297.764883\n",
      "2023-03-28  379.75  1580.20  2784.45  359.846288  297.168852\n",
      "2023-03-29  382.75  1587.80  2770.50  360.483987  299.430264\n",
      "2023-03-31  383.50  1609.55  2761.65  361.963753  304.322102\n",
      "\n",
      "[2459 rows x 5 columns]\n"
     ]
    },
    {
     "data": {
      "image/png": "[encoded data removed]",
      "text/plain": [
       "<Figure size 640x480 with 1 Axes>"
      ]
     },
     "metadata": {},
     "output_type": "display_data"
    }
   ],
   "source": [
    "compute_portfolio(['ITC', 'HDFCBANK', 'ASIANPAINT', 'NIFTY 50'], [200, 100, 100])"
   ]
  },
  {
   "cell_type": "code",
   "execution_count": null,
   "metadata": {},
   "outputs": [],
   "source": []
  }
 ],
 "metadata": {
  "kernelspec": {
   "display_name": "Python 3",
   "language": "python",
   "name": "python3"
  },
  "language_info": {
   "codemirror_mode": {
    "name": "ipython",
    "version": 3
   },
   "file_extension": ".py",
   "mimetype": "text/x-python",
   "name": "python",
   "nbconvert_exporter": "python",
   "pygments_lexer": "ipython3",
   "version": "3.10.8"
  },
  "orig_nbformat": 4
 },
 "nbformat": 4,
 "nbformat_minor": 2
}
